{
 "cells": [
  {
   "cell_type": "code",
   "execution_count": 13,
   "metadata": {},
   "outputs": [],
   "source": [
    "import pandas as pd\n",
    "import numpy as np"
   ]
  },
  {
   "cell_type": "code",
   "execution_count": 2,
   "metadata": {},
   "outputs": [
    {
     "data": {
      "text/html": [
       "<div>\n",
       "<style scoped>\n",
       "    .dataframe tbody tr th:only-of-type {\n",
       "        vertical-align: middle;\n",
       "    }\n",
       "\n",
       "    .dataframe tbody tr th {\n",
       "        vertical-align: top;\n",
       "    }\n",
       "\n",
       "    .dataframe thead th {\n",
       "        text-align: right;\n",
       "    }\n",
       "</style>\n",
       "<table border=\"1\" class=\"dataframe\">\n",
       "  <thead>\n",
       "    <tr style=\"text-align: right;\">\n",
       "      <th></th>\n",
       "      <th>Setor</th>\n",
       "      <th>Grupo</th>\n",
       "      <th>Pedido</th>\n",
       "    </tr>\n",
       "  </thead>\n",
       "  <tbody>\n",
       "    <tr>\n",
       "      <th>0</th>\n",
       "      <td>abcd</td>\n",
       "      <td>12345</td>\n",
       "      <td>sim</td>\n",
       "    </tr>\n",
       "    <tr>\n",
       "      <th>1</th>\n",
       "      <td>defg</td>\n",
       "      <td>67890</td>\n",
       "      <td>nao</td>\n",
       "    </tr>\n",
       "  </tbody>\n",
       "</table>\n",
       "</div>"
      ],
      "text/plain": [
       "  Setor  Grupo Pedido\n",
       "0  abcd  12345    sim\n",
       "1  defg  67890    nao"
      ]
     },
     "execution_count": 2,
     "metadata": {},
     "output_type": "execute_result"
    }
   ],
   "source": [
    "df = pd.DataFrame({'Setor':['abcd','defg'], \n",
    "                    'Grupo':['12345','67890'], \n",
    "                    'Pedido':['sim', 'nao']})\n",
    "df"
   ]
  },
  {
   "cell_type": "code",
   "execution_count": 7,
   "metadata": {},
   "outputs": [
    {
     "data": {
      "text/plain": [
       "Index(['Setor', 'Grupo', 'Pedido'], dtype='object')"
      ]
     },
     "execution_count": 7,
     "metadata": {},
     "output_type": "execute_result"
    }
   ],
   "source": [
    "df.columns"
   ]
  },
  {
   "cell_type": "code",
   "execution_count": 5,
   "metadata": {},
   "outputs": [
    {
     "data": {
      "text/html": [
       "<div>\n",
       "<style scoped>\n",
       "    .dataframe tbody tr th:only-of-type {\n",
       "        vertical-align: middle;\n",
       "    }\n",
       "\n",
       "    .dataframe tbody tr th {\n",
       "        vertical-align: top;\n",
       "    }\n",
       "\n",
       "    .dataframe thead th {\n",
       "        text-align: right;\n",
       "    }\n",
       "</style>\n",
       "<table border=\"1\" class=\"dataframe\">\n",
       "  <thead>\n",
       "    <tr style=\"text-align: right;\">\n",
       "      <th></th>\n",
       "      <th>Cd Consultora</th>\n",
       "      <th>Nome CN</th>\n",
       "      <th>Nível</th>\n",
       "      <th>Ciclo Início</th>\n",
       "      <th>Setor</th>\n",
       "      <th>Grupo</th>\n",
       "      <th>Débito</th>\n",
       "      <th>Status CN</th>\n",
       "      <th>Espaço Dig Aberto</th>\n",
       "      <th>CN Bem Vinda</th>\n",
       "      <th>Adimplente 1ª Parc</th>\n",
       "      <th>Pedido Autônomo</th>\n",
       "      <th>Treinamento</th>\n",
       "      <th>Venda Digital</th>\n",
       "      <th>Qt Passos</th>\n",
       "    </tr>\n",
       "  </thead>\n",
       "  <tbody>\n",
       "    <tr>\n",
       "      <th>0</th>\n",
       "      <td>1985574</td>\n",
       "      <td>IVONE ESPINDOLA</td>\n",
       "      <td>SEMENTE</td>\n",
       "      <td>202214</td>\n",
       "      <td>ESTRELAS DO MAR</td>\n",
       "      <td>17259</td>\n",
       "      <td>NÃO</td>\n",
       "      <td>I1</td>\n",
       "      <td>SIM</td>\n",
       "      <td>NÃO</td>\n",
       "      <td>SIM</td>\n",
       "      <td>SIM</td>\n",
       "      <td>NÃO</td>\n",
       "      <td>NÃO</td>\n",
       "      <td>2</td>\n",
       "    </tr>\n",
       "    <tr>\n",
       "      <th>1</th>\n",
       "      <td>2433710</td>\n",
       "      <td>NORY CELESTE SAIS DE FERREIRA</td>\n",
       "      <td>SEMENTE</td>\n",
       "      <td>202219</td>\n",
       "      <td>PAPAREIA DO CHUI</td>\n",
       "      <td>9037</td>\n",
       "      <td>NÃO</td>\n",
       "      <td>I4</td>\n",
       "      <td>SIM</td>\n",
       "      <td>NÃO</td>\n",
       "      <td>SIM</td>\n",
       "      <td>SIM</td>\n",
       "      <td>SIM</td>\n",
       "      <td>NÃO</td>\n",
       "      <td>3</td>\n",
       "    </tr>\n",
       "    <tr>\n",
       "      <th>2</th>\n",
       "      <td>2747120</td>\n",
       "      <td>MARIA JUANITA MORAES</td>\n",
       "      <td>SEMENTE</td>\n",
       "      <td>202218</td>\n",
       "      <td>HORTENSIA</td>\n",
       "      <td>8611</td>\n",
       "      <td>NÃO</td>\n",
       "      <td>I3</td>\n",
       "      <td>SIM</td>\n",
       "      <td>NÃO</td>\n",
       "      <td>SIM</td>\n",
       "      <td>SIM</td>\n",
       "      <td>NÃO</td>\n",
       "      <td>NÃO</td>\n",
       "      <td>2</td>\n",
       "    </tr>\n",
       "    <tr>\n",
       "      <th>3</th>\n",
       "      <td>3234750</td>\n",
       "      <td>NILCE JUSTIN FERRI</td>\n",
       "      <td>BRONZE</td>\n",
       "      <td>202215</td>\n",
       "      <td>ESTRELAS DO MAR</td>\n",
       "      <td>17307</td>\n",
       "      <td>NÃO</td>\n",
       "      <td>I2</td>\n",
       "      <td>SIM</td>\n",
       "      <td>NÃO</td>\n",
       "      <td>SIM</td>\n",
       "      <td>SIM</td>\n",
       "      <td>NÃO</td>\n",
       "      <td>NÃO</td>\n",
       "      <td>2</td>\n",
       "    </tr>\n",
       "    <tr>\n",
       "      <th>4</th>\n",
       "      <td>3729010</td>\n",
       "      <td>DANIELA FABIANA PEREIRA</td>\n",
       "      <td>BRONZE</td>\n",
       "      <td>202217</td>\n",
       "      <td>HORTENSIA</td>\n",
       "      <td>8608</td>\n",
       "      <td>NÃO</td>\n",
       "      <td>I2</td>\n",
       "      <td>SIM</td>\n",
       "      <td>NÃO</td>\n",
       "      <td>SIM</td>\n",
       "      <td>SIM</td>\n",
       "      <td>SIM</td>\n",
       "      <td>NÃO</td>\n",
       "      <td>3</td>\n",
       "    </tr>\n",
       "    <tr>\n",
       "      <th>...</th>\n",
       "      <td>...</td>\n",
       "      <td>...</td>\n",
       "      <td>...</td>\n",
       "      <td>...</td>\n",
       "      <td>...</td>\n",
       "      <td>...</td>\n",
       "      <td>...</td>\n",
       "      <td>...</td>\n",
       "      <td>...</td>\n",
       "      <td>...</td>\n",
       "      <td>...</td>\n",
       "      <td>...</td>\n",
       "      <td>...</td>\n",
       "      <td>...</td>\n",
       "      <td>...</td>\n",
       "    </tr>\n",
       "    <tr>\n",
       "      <th>9385</th>\n",
       "      <td>307699820</td>\n",
       "      <td>SHEILA DAMBROS</td>\n",
       "      <td>SEMENTE</td>\n",
       "      <td>202303</td>\n",
       "      <td>TERRA DAS VIDEIRAS</td>\n",
       "      <td>8652</td>\n",
       "      <td>NÃO</td>\n",
       "      <td>ATIVA</td>\n",
       "      <td>SIM</td>\n",
       "      <td>NÃO</td>\n",
       "      <td>SIM</td>\n",
       "      <td>SIM</td>\n",
       "      <td>NÃO</td>\n",
       "      <td>NÃO</td>\n",
       "      <td>2</td>\n",
       "    </tr>\n",
       "    <tr>\n",
       "      <th>9386</th>\n",
       "      <td>307760588</td>\n",
       "      <td>CLAUDIA SANTOS</td>\n",
       "      <td>SEMENTE</td>\n",
       "      <td>202303</td>\n",
       "      <td>PRINCESA DO SUL</td>\n",
       "      <td>9075</td>\n",
       "      <td>NÃO</td>\n",
       "      <td>ATIVA</td>\n",
       "      <td>SIM</td>\n",
       "      <td>NÃO</td>\n",
       "      <td>SIM</td>\n",
       "      <td>SIM</td>\n",
       "      <td>NÃO</td>\n",
       "      <td>NÃO</td>\n",
       "      <td>2</td>\n",
       "    </tr>\n",
       "    <tr>\n",
       "      <th>9387</th>\n",
       "      <td>307764818</td>\n",
       "      <td>LEONARDO DE MATOS DA ROSA</td>\n",
       "      <td>SEMENTE</td>\n",
       "      <td>202303</td>\n",
       "      <td>BONS VENTOS</td>\n",
       "      <td>10194</td>\n",
       "      <td>NÃO</td>\n",
       "      <td>ATIVA</td>\n",
       "      <td>SIM</td>\n",
       "      <td>NÃO</td>\n",
       "      <td>SIM</td>\n",
       "      <td>SIM</td>\n",
       "      <td>NÃO</td>\n",
       "      <td>NÃO</td>\n",
       "      <td>2</td>\n",
       "    </tr>\n",
       "    <tr>\n",
       "      <th>9388</th>\n",
       "      <td>307765733</td>\n",
       "      <td>JHONATAN SOARES OLIVEIRA SILVA</td>\n",
       "      <td>SEMENTE</td>\n",
       "      <td>202303</td>\n",
       "      <td>NOVO TEMPO</td>\n",
       "      <td>8201</td>\n",
       "      <td>NÃO</td>\n",
       "      <td>ATIVA</td>\n",
       "      <td>SIM</td>\n",
       "      <td>NÃO</td>\n",
       "      <td>SIM</td>\n",
       "      <td>SIM</td>\n",
       "      <td>NÃO</td>\n",
       "      <td>NÃO</td>\n",
       "      <td>2</td>\n",
       "    </tr>\n",
       "    <tr>\n",
       "      <th>9389</th>\n",
       "      <td>307768538</td>\n",
       "      <td>WESLEY RICARDO DOS REIS LIMA</td>\n",
       "      <td>SEMENTE</td>\n",
       "      <td>202303</td>\n",
       "      <td>TERRA DAS VIDEIRAS</td>\n",
       "      <td>8656</td>\n",
       "      <td>NÃO</td>\n",
       "      <td>ATIVA</td>\n",
       "      <td>SIM</td>\n",
       "      <td>NÃO</td>\n",
       "      <td>SIM</td>\n",
       "      <td>SIM</td>\n",
       "      <td>NÃO</td>\n",
       "      <td>NÃO</td>\n",
       "      <td>2</td>\n",
       "    </tr>\n",
       "  </tbody>\n",
       "</table>\n",
       "<p>9390 rows × 15 columns</p>\n",
       "</div>"
      ],
      "text/plain": [
       "      Cd Consultora                         Nome CN    Nível  Ciclo Início  \\\n",
       "0           1985574                 IVONE ESPINDOLA  SEMENTE        202214   \n",
       "1           2433710   NORY CELESTE SAIS DE FERREIRA  SEMENTE        202219   \n",
       "2           2747120            MARIA JUANITA MORAES  SEMENTE        202218   \n",
       "3           3234750              NILCE JUSTIN FERRI   BRONZE        202215   \n",
       "4           3729010         DANIELA FABIANA PEREIRA   BRONZE        202217   \n",
       "...             ...                             ...      ...           ...   \n",
       "9385      307699820                  SHEILA DAMBROS  SEMENTE        202303   \n",
       "9386      307760588                  CLAUDIA SANTOS  SEMENTE        202303   \n",
       "9387      307764818       LEONARDO DE MATOS DA ROSA  SEMENTE        202303   \n",
       "9388      307765733  JHONATAN SOARES OLIVEIRA SILVA  SEMENTE        202303   \n",
       "9389      307768538    WESLEY RICARDO DOS REIS LIMA  SEMENTE        202303   \n",
       "\n",
       "                   Setor  Grupo Débito Status CN Espaço Dig Aberto  \\\n",
       "0        ESTRELAS DO MAR  17259    NÃO        I1               SIM   \n",
       "1       PAPAREIA DO CHUI   9037    NÃO        I4               SIM   \n",
       "2              HORTENSIA   8611    NÃO        I3               SIM   \n",
       "3        ESTRELAS DO MAR  17307    NÃO        I2               SIM   \n",
       "4              HORTENSIA   8608    NÃO        I2               SIM   \n",
       "...                  ...    ...    ...       ...               ...   \n",
       "9385  TERRA DAS VIDEIRAS   8652    NÃO     ATIVA               SIM   \n",
       "9386     PRINCESA DO SUL   9075    NÃO     ATIVA               SIM   \n",
       "9387         BONS VENTOS  10194    NÃO     ATIVA               SIM   \n",
       "9388          NOVO TEMPO   8201    NÃO     ATIVA               SIM   \n",
       "9389  TERRA DAS VIDEIRAS   8656    NÃO     ATIVA               SIM   \n",
       "\n",
       "     CN Bem Vinda Adimplente 1ª Parc Pedido Autônomo Treinamento  \\\n",
       "0             NÃO                SIM             SIM         NÃO   \n",
       "1             NÃO                SIM             SIM         SIM   \n",
       "2             NÃO                SIM             SIM         NÃO   \n",
       "3             NÃO                SIM             SIM         NÃO   \n",
       "4             NÃO                SIM             SIM         SIM   \n",
       "...           ...                ...             ...         ...   \n",
       "9385          NÃO                SIM             SIM         NÃO   \n",
       "9386          NÃO                SIM             SIM         NÃO   \n",
       "9387          NÃO                SIM             SIM         NÃO   \n",
       "9388          NÃO                SIM             SIM         NÃO   \n",
       "9389          NÃO                SIM             SIM         NÃO   \n",
       "\n",
       "     Venda Digital  Qt Passos  \n",
       "0              NÃO          2  \n",
       "1              NÃO          3  \n",
       "2              NÃO          2  \n",
       "3              NÃO          2  \n",
       "4              NÃO          3  \n",
       "...            ...        ...  \n",
       "9385           NÃO          2  \n",
       "9386           NÃO          2  \n",
       "9387           NÃO          2  \n",
       "9388           NÃO          2  \n",
       "9389           NÃO          2  \n",
       "\n",
       "[9390 rows x 15 columns]"
      ]
     },
     "execution_count": 5,
     "metadata": {},
     "output_type": "execute_result"
    }
   ],
   "source": [
    "df = pd.read_csv('teste.csv', sep=';')\n",
    "df"
   ]
  },
  {
   "cell_type": "code",
   "execution_count": 4,
   "metadata": {},
   "outputs": [
    {
     "data": {
      "text/plain": [
       "7"
      ]
     },
     "execution_count": 4,
     "metadata": {},
     "output_type": "execute_result"
    }
   ],
   "source": [
    "df[(df['Setor']=='CORAÇÃO GAÚCHO') & (df['Grupo']==9146) & (df['Nível']=='BRONZE')]['Cd Consultora'].count()"
   ]
  },
  {
   "cell_type": "code",
   "execution_count": 8,
   "metadata": {},
   "outputs": [
    {
     "data": {
      "text/plain": [
       "43"
      ]
     },
     "execution_count": 8,
     "metadata": {},
     "output_type": "execute_result"
    }
   ],
   "source": [
    "df[(df['Setor']=='CORAÇÃO GAÚCHO') & (df['Grupo']==9146)]['Cd Consultora'].count()"
   ]
  },
  {
   "cell_type": "code",
   "execution_count": 9,
   "metadata": {},
   "outputs": [
    {
     "data": {
      "text/plain": [
       "0.16279069767441862"
      ]
     },
     "execution_count": 9,
     "metadata": {},
     "output_type": "execute_result"
    }
   ],
   "source": [
    "7/43"
   ]
  },
  {
   "cell_type": "code",
   "execution_count": 5,
   "metadata": {},
   "outputs": [
    {
     "name": "stdout",
     "output_type": "stream",
     "text": [
      "<class 'pandas.core.frame.DataFrame'>\n",
      "RangeIndex: 9390 entries, 0 to 9389\n",
      "Data columns (total 15 columns):\n",
      " #   Column              Non-Null Count  Dtype \n",
      "---  ------              --------------  ----- \n",
      " 0   Cd Consultora       9390 non-null   int64 \n",
      " 1   Nome CN             9390 non-null   object\n",
      " 2   Nível               9390 non-null   object\n",
      " 3   Ciclo Início        9390 non-null   int64 \n",
      " 4   Setor               9390 non-null   object\n",
      " 5   Grupo               9390 non-null   int64 \n",
      " 6   Débito              9390 non-null   object\n",
      " 7   Status CN           9390 non-null   object\n",
      " 8   Espaço Dig Aberto   9390 non-null   object\n",
      " 9   CN Bem Vinda        9390 non-null   object\n",
      " 10  Adimplente 1ª Parc  9390 non-null   object\n",
      " 11  Pedido Autônomo     9390 non-null   object\n",
      " 12  Treinamento         9390 non-null   object\n",
      " 13  Venda Digital       9390 non-null   object\n",
      " 14  Qt Passos           9390 non-null   int64 \n",
      "dtypes: int64(4), object(11)\n",
      "memory usage: 1.1+ MB\n"
     ]
    }
   ],
   "source": [
    "df.info()"
   ]
  },
  {
   "cell_type": "code",
   "execution_count": 6,
   "metadata": {},
   "outputs": [
    {
     "data": {
      "text/plain": [
       "9146"
      ]
     },
     "execution_count": 6,
     "metadata": {},
     "output_type": "execute_result"
    }
   ],
   "source": [
    "int('9146')"
   ]
  },
  {
   "cell_type": "code",
   "execution_count": 3,
   "metadata": {},
   "outputs": [
    {
     "data": {
      "text/plain": [
       "array([ 9146, 14573,  8989,  9148, 11167,  9144, 10163, 11277,  9087,\n",
       "       12814])"
      ]
     },
     "execution_count": 3,
     "metadata": {},
     "output_type": "execute_result"
    },
    {
     "name": "stderr",
     "output_type": "stream",
     "text": [
      "Bad pipe message: %s [b'\\xb4\\x05\\x9d\\xe2_z\\xb3\\x1f\\xcf\\nj\\x88p\\xbe\\xb5\\xdf\\xf0\\x95 \\xb8\\xfdq\\xbd\\xc1\\xfdo\\x92~\\x97\\xdd\\x15\"\\xa4#:FY\\xfc\\x81\\x13R\\x89c\\xf4\\xa1w\\xeax\\xcc\\x7f\\xa8\\x00\\x08\\x13\\x02\\x13\\x03\\x13\\x01\\x00\\xff\\x01\\x00\\x00\\x8f\\x00\\x00\\x00\\x0e\\x00\\x0c\\x00\\x00\\t127.0.0.1\\x00\\x0b\\x00\\x04\\x03\\x00\\x01\\x02\\x00\\n\\x00\\x0c\\x00\\n\\x00\\x1d\\x00\\x17\\x00\\x1e\\x00\\x19\\x00\\x18\\x00#\\x00\\x00\\x00\\x16\\x00\\x00\\x00\\x17\\x00\\x00\\x00\\r\\x00\\x1e\\x00\\x1c\\x04\\x03\\x05\\x03\\x06\\x03\\x08\\x07\\x08\\x08\\x08\\t\\x08\\n\\x08\\x0b\\x08\\x04\\x08\\x05\\x08\\x06', b'\\x05\\x01\\x06', b'']\n",
      "Bad pipe message: %s [b'\\x03\\x02\\x03\\x04\\x00-\\x00\\x02\\x01\\x01\\x003\\x00&\\x00$\\x00\\x1d\\x00 c\\xb6\\xfc&\\x01!\\xfa\\x0e\\x0c\\xa1&\\xdd\\x1d/\\xc2\\x99\\xe4bd\\xc8T\\x08']\n",
      "Bad pipe message: %s [b'+\\xed\\xdfDjl1nq\\x0c6\\xcb\\xadq<@\\x0c\\x9e w\\x92\\xdd\\xf0|\\xd9@\\xc4$\\xfa\\xb8\\x199,\\x8b+A\\x05.\\x0c\\x14\\x97\\xde\\x8d\\x0c\\xfdpq\\x8a\\xc0.i\\x00\\x08\\x13\\x02\\x13\\x03\\x13\\x01\\x00\\xff\\x01\\x00\\x00\\x8f\\x00\\x00\\x00\\x0e\\x00\\x0c\\x00\\x00\\t127.0.0.1\\x00\\x0b\\x00\\x04\\x03\\x00\\x01\\x02\\x00\\n\\x00\\x0c\\x00\\n\\x00\\x1d\\x00\\x17\\x00\\x1e\\x00\\x19\\x00\\x18\\x00#\\x00\\x00\\x00\\x16\\x00\\x00\\x00\\x17\\x00\\x00\\x00\\r\\x00\\x1e\\x00\\x1c\\x04\\x03\\x05\\x03\\x06\\x03\\x08\\x07\\x08\\x08\\x08\\t\\x08\\n\\x08\\x0b\\x08\\x04\\x08\\x05\\x08\\x06\\x04\\x01\\x05\\x01\\x06\\x01\\x00', b'\\x03\\x02\\x03\\x04\\x00-\\x00\\x02\\x01\\x01\\x003\\x00&\\x00$\\x00\\x1d\\x00 \\xda\\xd0\\x1b\\xcc\\x84\\xda\\xda\\xda\\xfa\\x15\\x18e\\xf0\\xa7\\xbf\\xc1\\x9a\\xed\\xcd\\x7f\\x8d)']\n",
      "Bad pipe message: %s [b'E\\xa0C']\n",
      "Bad pipe message: %s [b'\\xa3\\x86^\\xc8\\xed\\x9d\\xfd_3\\x0f\\x98\\x8fmhu\\xfa\\xab\\x04\\x00\\x00>\\xc0\\x14\\xc0\\n\\x009\\x008\\x007\\x006\\xc0\\x0f\\xc0\\x05\\x005\\xc0\\x13\\xc0']\n",
      "Bad pipe message: %s [b'3\\x002\\x001\\x000\\xc0']\n",
      "Bad pipe message: %s [b'\\x04\\x00/\\x00\\x9a\\x00\\x99\\x00\\x98\\x00\\x97\\x00\\x96']\n",
      "Bad pipe message: %s [b'\\xd4\\x99\\xb7\\xc9\\x08,\\x1d\\x82I\\xdc\\xb2\\xe4\\xe5F\\xda\\x9c\\xd6\\xc5\\x00\\x00>\\xc0\\x14\\xc0\\n\\x009\\x008\\x007\\x006\\xc0\\x0f\\xc0\\x05\\x005\\xc0\\x13\\xc0\\t\\x003\\x002\\x001\\x000\\xc0\\x0e\\xc0\\x04\\x00/\\x00\\x9a\\x00\\x99\\x00\\x98\\x00\\x97\\x00\\x96\\x00\\x07\\xc0\\x11\\xc0\\x07\\xc0\\x0c\\xc0\\x02\\x00\\x05\\x00\\x04\\x00\\xff\\x02\\x01\\x00\\x00C\\x00\\x00\\x00\\x0e\\x00\\x0c\\x00\\x00\\t127.0.0.1\\x00\\x0b\\x00\\x04\\x03\\x00\\x01\\x02\\x00\\n\\x00\\x1c\\x00\\x1a\\x00']\n",
      "Bad pipe message: %s [b'\\x19\\x00\\x1c\\x00\\x1b\\x00\\x18\\x00\\x1a\\x00\\x16\\x00\\x0e\\x00\\r\\x00\\x0b\\x00\\x0c\\x00\\t\\x00']\n",
      "Bad pipe message: %s [b'#\\x00\\x00\\x00\\x0f\\x00\\x01\\x01\\x15']\n",
      "Bad pipe message: %s [b\"\\x8bH'X\\xb5\\x01uU\\x14\\x81\\xff\\r 9\\xe3\\x0c\\xe3\\xe6\\x00\\x00\\xa2\\xc0\\x14\\xc0\\n\\x009\\x008\\x007\\x006\\x00\\x88\\x00\\x87\\x00\\x86\\x00\\x85\\xc0\\x19\\x00:\\x00\\x89\\xc0\\x0f\\xc0\\x05\\x005\\x00\\x84\\xc0\\x13\\xc0\\t\\x003\\x002\\x001\\x000\\x00\\x9a\\x00\\x99\\x00\\x98\\x00\\x97\\x00E\\x00D\\x00C\\x00B\\xc0\\x18\\x004\\x00\\x9b\\x00F\\xc0\\x0e\\xc0\\x04\\x00/\\x00\\x96\\x00A\\x00\\x07\\xc0\\x11\\xc0\\x07\\xc0\\x16\\x00\\x18\\xc0\\x0c\\xc0\\x02\\x00\\x05\\x00\\x04\\xc0\\x12\\xc0\\x08\\x00\\x16\\x00\\x13\\x00\\x10\\x00\\r\\xc0\\x17\\x00\\x1b\\xc0\\r\\xc0\\x03\\x00\\n\\x00\\x15\\x00\\x12\\x00\\x0f\\x00\\x0c\\x00\\x1a\\x00\\t\\x00\\x14\\x00\\x11\\x00\\x19\\x00\\x08\\x00\\x06\\x00\\x17\\x00\\x03\\xc0\\x10\\xc0\\x06\\xc0\\x15\\xc0\\x0b\\xc0\\x01\\x00\\x02\\x00\\x01\\x00\\xff\\x02\\x01\\x00\\x00C\\x00\\x00\\x00\\x0e\\x00\\x0c\\x00\\x00\\t127.0.0.1\\x00\\x0b\\x00\\x04\\x03\\x00\\x01\"]\n",
      "Bad pipe message: %s [b'\\n']\n",
      "Bad pipe message: %s [b'\\xf5\\x1e\\x1c\\x85\\xfb\\xb0\\xdd\\xdf\\x94i`\\x15\\xbeK\\xbdgL\\xef\\x00\\x00\\xa2\\xc0\\x14\\xc0\\n\\x009\\x008\\x007\\x006\\x00\\x88\\x00\\x87\\x00\\x86\\x00\\x85\\xc0\\x19\\x00:\\x00\\x89\\xc0\\x0f\\xc0\\x05\\x005\\x00\\x84\\xc0\\x13\\xc0\\t\\x003\\x002\\x001\\x000\\x00\\x9a\\x00\\x99\\x00\\x98\\x00\\x97\\x00E\\x00D\\x00C\\x00B\\xc0\\x18\\x004\\x00\\x9b\\x00F\\xc0\\x0e\\xc0\\x04\\x00/\\x00\\x96\\x00A\\x00\\x07\\xc0\\x11\\xc0\\x07\\xc0\\x16\\x00\\x18\\xc0\\x0c\\xc0\\x02\\x00\\x05\\x00\\x04\\xc0\\x12\\xc0\\x08\\x00\\x16\\x00', b'\\x10\\x00\\r\\xc0\\x17\\x00\\x1b\\xc0\\r\\xc0\\x03\\x00\\n\\x00\\x15\\x00\\x12\\x00']\n",
      "Bad pipe message: %s [b'\\x0c\\x00\\x1a\\x00\\t\\x00\\x14\\x00\\x11\\x00\\x19\\x00\\x08\\x00']\n",
      "Bad pipe message: %s [b'\\x17\\x00\\x03\\xc0\\x10']\n",
      "Bad pipe message: %s [b\"n\\x8d\\xbbMO\\xd7\\xee\\xe5D)}N\\x19\\xf2'\\x08\\xa1\\xbc\\x00\\x00\\x86\\xc00\\xc0,\\xc0(\\xc0$\\xc0\\x14\\xc0\\n\\x00\\xa5\\x00\\xa3\\x00\\xa1\\x00\\x9f\\x00k\\x00j\\x00i\\x00h\\x009\\x008\\x007\\x006\\xc02\\xc0.\\xc0*\\xc0&\\xc0\\x0f\\xc0\\x05\\x00\\x9d\\x00=\\x005\\xc0/\\xc0+\\xc0'\\xc0#\\xc0\\x13\\xc0\\t\\x00\\xa4\\x00\\xa2\\x00\\xa0\\x00\\x9e\\x00g\\x00@\\x00?\\x00>\\x003\\x002\\x001\\x000\\xc01\\xc0-\\xc0)\\xc0%\\xc0\\x0e\\xc0\\x04\\x00\\x9c\\x00<\\x00/\\x00\\x9a\\x00\\x99\\x00\\x98\\x00\\x97\\x00\\x96\\x00\\x07\\xc0\\x11\\xc0\\x07\\xc0\\x0c\\xc0\\x02\\x00\\x05\\x00\\x04\\x00\\xff\\x02\\x01\\x00\\x00g\\x00\\x00\\x00\"]\n",
      "Bad pipe message: %s [b'\\x0c\\x00\\x00\\t127.0.0.1']\n"
     ]
    }
   ],
   "source": [
    "df[df['Setor']=='CORAÇÃO GAÚCHO']['Grupo'].unique()"
   ]
  },
  {
   "cell_type": "code",
   "execution_count": 24,
   "metadata": {},
   "outputs": [
    {
     "name": "stdout",
     "output_type": "stream",
     "text": [
      "CPU times: user 1.52 ms, sys: 90 µs, total: 1.61 ms\n",
      "Wall time: 1.24 ms\n"
     ]
    }
   ],
   "source": [
    "%%time\n",
    "values = np.sort(df[\"Grupo\"].unique())"
   ]
  },
  {
   "cell_type": "code",
   "execution_count": 25,
   "metadata": {},
   "outputs": [
    {
     "data": {
      "text/plain": [
       "array([    0,  8180,  8186,  8188,  8201,  8203,  8205,  8207,  8210,\n",
       "        8212,  8215,  8219,  8220,  8223,  8232,  8233,  8237,  8242,\n",
       "        8248,  8255,  8256,  8257,  8261,  8271,  8273,  8275,  8278,\n",
       "        8279,  8284,  8286,  8287,  8296,  8593,  8595,  8597,  8598,\n",
       "        8601,  8603,  8605,  8608,  8609,  8610,  8611,  8613,  8615,\n",
       "        8616,  8618,  8622,  8633,  8634,  8636,  8639,  8640,  8643,\n",
       "        8644,  8646,  8647,  8650,  8652,  8656,  8660,  8662,  8664,\n",
       "        8665,  8667,  8669,  8671,  8673,  8675,  8677,  8679,  8683,\n",
       "        8684,  8685,  8694,  8695,  8699,  8701,  8706,  8709,  8715,\n",
       "        8716,  8717,  8719,  8726,  8728,  8989,  8996,  8997,  8998,\n",
       "        8999,  9001,  9003,  9005,  9010,  9015,  9017,  9019,  9020,\n",
       "        9025,  9028,  9030,  9032,  9035,  9037,  9039,  9043,  9045,\n",
       "        9046,  9049,  9051,  9052,  9054,  9056,  9060,  9063,  9066,\n",
       "        9071,  9072,  9075,  9076,  9080,  9081,  9082,  9087,  9095,\n",
       "        9097,  9099,  9111,  9113,  9115,  9118,  9119,  9120,  9121,\n",
       "        9125,  9126,  9127,  9129,  9130,  9132,  9137,  9141,  9144,\n",
       "        9146,  9148,  9157,  9160,  9292,  9293,  9305,  9308,  9333,\n",
       "        9335,  9336,  9341,  9343,  9345,  9346,  9351, 10011, 10047,\n",
       "       10110, 10163, 10194, 10245, 10444, 10495, 10602, 10639, 10644,\n",
       "       10711, 10861, 10998, 11082, 11167, 11205, 11277, 11359, 11460,\n",
       "       11621, 11922, 12257, 12534, 12725, 12768, 12814, 13231, 13298,\n",
       "       13381, 13473, 13652, 14160, 14370, 14573, 15232, 15723, 15751,\n",
       "       15819, 15855, 16097, 16185, 16192, 16193, 16555, 16660, 16690,\n",
       "       16738, 16759, 16809, 16843, 16913, 16919, 17078, 17160, 17227,\n",
       "       17251, 17259, 17307, 17500, 18150, 18250, 18451, 18727, 18949,\n",
       "       19357])"
      ]
     },
     "execution_count": 25,
     "metadata": {},
     "output_type": "execute_result"
    }
   ],
   "source": [
    "values"
   ]
  },
  {
   "cell_type": "code",
   "execution_count": 26,
   "metadata": {},
   "outputs": [
    {
     "data": {
      "text/plain": [
       "array([ 8180,  8186,  8188,  8201,  8203,  8205,  8207,  8210,  8212,\n",
       "        8215,  8219,  8220,  8223,  8232,  8233,  8237,  8242,  8248,\n",
       "        8255,  8256,  8257,  8261,  8271,  8273,  8275,  8278,  8279,\n",
       "        8284,  8286,  8287,  8296,  8593,  8595,  8597,  8598,  8601,\n",
       "        8603,  8605,  8608,  8609,  8610,  8611,  8613,  8615,  8616,\n",
       "        8618,  8622,  8633,  8634,  8636,  8639,  8640,  8643,  8644,\n",
       "        8646,  8647,  8650,  8652,  8656,  8660,  8662,  8664,  8665,\n",
       "        8667,  8669,  8671,  8673,  8675,  8677,  8679,  8683,  8684,\n",
       "        8685,  8694,  8695,  8699,  8701,  8706,  8709,  8715,  8716,\n",
       "        8717,  8719,  8726,  8728,  8989,  8996,  8997,  8998,  8999,\n",
       "        9001,  9003,  9005,  9010,  9015,  9017,  9019,  9020,  9025,\n",
       "        9028,  9030,  9032,  9035,  9037,  9039,  9043,  9045,  9046,\n",
       "        9049,  9051,  9052,  9054,  9056,  9060,  9063,  9066,  9071,\n",
       "        9072,  9075,  9076,  9080,  9081,  9082,  9087,  9095,  9097,\n",
       "        9099,  9111,  9113,  9115,  9118,  9119,  9120,  9121,  9125,\n",
       "        9126,  9127,  9129,  9130,  9132,  9137,  9141,  9144,  9146,\n",
       "        9148,  9157,  9160,  9292,  9293,  9305,  9308,  9333,  9335,\n",
       "        9336,  9341,  9343,  9345,  9346,  9351, 10011, 10047, 10110,\n",
       "       10163, 10194, 10245, 10444, 10495, 10602, 10639, 10644, 10711,\n",
       "       10861, 10998, 11082, 11167, 11205, 11277, 11359, 11460, 11621,\n",
       "       11922, 12257, 12534, 12725, 12768, 12814, 13231, 13298, 13381,\n",
       "       13473, 13652, 14160, 14370, 14573, 15232, 15723, 15751, 15819,\n",
       "       15855, 16097, 16185, 16192, 16193, 16555, 16660, 16690, 16738,\n",
       "       16759, 16809, 16843, 16913, 16919, 17078, 17160, 17227, 17251,\n",
       "       17259, 17307, 17500, 18150, 18250, 18451, 18727, 18949, 19357])"
      ]
     },
     "execution_count": 26,
     "metadata": {},
     "output_type": "execute_result"
    }
   ],
   "source": [
    "values[values > 0]"
   ]
  },
  {
   "cell_type": "code",
   "execution_count": 21,
   "metadata": {},
   "outputs": [],
   "source": [
    "filter_values = values > 0"
   ]
  },
  {
   "cell_type": "code",
   "execution_count": 22,
   "metadata": {},
   "outputs": [
    {
     "data": {
      "text/plain": [
       "array([False,  True,  True,  True,  True,  True,  True,  True,  True,\n",
       "        True,  True,  True,  True,  True,  True,  True,  True,  True,\n",
       "        True,  True,  True,  True,  True,  True,  True,  True,  True,\n",
       "        True,  True,  True,  True,  True,  True,  True,  True,  True,\n",
       "        True,  True,  True,  True,  True,  True,  True,  True,  True,\n",
       "        True,  True,  True,  True,  True,  True,  True,  True,  True,\n",
       "        True,  True,  True,  True,  True,  True,  True,  True,  True,\n",
       "        True,  True,  True,  True,  True,  True,  True,  True,  True,\n",
       "        True,  True,  True,  True,  True,  True,  True,  True,  True,\n",
       "        True,  True,  True,  True,  True,  True,  True,  True,  True,\n",
       "        True,  True,  True,  True,  True,  True,  True,  True,  True,\n",
       "        True,  True,  True,  True,  True,  True,  True,  True,  True,\n",
       "        True,  True,  True,  True,  True,  True,  True,  True,  True,\n",
       "        True,  True,  True,  True,  True,  True,  True,  True,  True,\n",
       "        True,  True,  True,  True,  True,  True,  True,  True,  True,\n",
       "        True,  True,  True,  True,  True,  True,  True,  True,  True,\n",
       "        True,  True,  True,  True,  True,  True,  True,  True,  True,\n",
       "        True,  True,  True,  True,  True,  True,  True,  True,  True,\n",
       "        True,  True,  True,  True,  True,  True,  True,  True,  True,\n",
       "        True,  True,  True,  True,  True,  True,  True,  True,  True,\n",
       "        True,  True,  True,  True,  True,  True,  True,  True,  True,\n",
       "        True,  True,  True,  True,  True,  True,  True,  True,  True,\n",
       "        True,  True,  True,  True,  True,  True,  True,  True,  True,\n",
       "        True,  True,  True,  True,  True,  True,  True,  True,  True,\n",
       "        True,  True,  True,  True,  True,  True,  True,  True,  True,\n",
       "        True])"
      ]
     },
     "execution_count": 22,
     "metadata": {},
     "output_type": "execute_result"
    }
   ],
   "source": [
    "filter_values"
   ]
  },
  {
   "cell_type": "code",
   "execution_count": 23,
   "metadata": {},
   "outputs": [
    {
     "data": {
      "text/plain": [
       "array([ 8180,  8186,  8188,  8201,  8203,  8205,  8207,  8210,  8212,\n",
       "        8215,  8219,  8220,  8223,  8232,  8233,  8237,  8242,  8248,\n",
       "        8255,  8256,  8257,  8261,  8271,  8273,  8275,  8278,  8279,\n",
       "        8284,  8286,  8287,  8296,  8593,  8595,  8597,  8598,  8601,\n",
       "        8603,  8605,  8608,  8609,  8610,  8611,  8613,  8615,  8616,\n",
       "        8618,  8622,  8633,  8634,  8636,  8639,  8640,  8643,  8644,\n",
       "        8646,  8647,  8650,  8652,  8656,  8660,  8662,  8664,  8665,\n",
       "        8667,  8669,  8671,  8673,  8675,  8677,  8679,  8683,  8684,\n",
       "        8685,  8694,  8695,  8699,  8701,  8706,  8709,  8715,  8716,\n",
       "        8717,  8719,  8726,  8728,  8989,  8996,  8997,  8998,  8999,\n",
       "        9001,  9003,  9005,  9010,  9015,  9017,  9019,  9020,  9025,\n",
       "        9028,  9030,  9032,  9035,  9037,  9039,  9043,  9045,  9046,\n",
       "        9049,  9051,  9052,  9054,  9056,  9060,  9063,  9066,  9071,\n",
       "        9072,  9075,  9076,  9080,  9081,  9082,  9087,  9095,  9097,\n",
       "        9099,  9111,  9113,  9115,  9118,  9119,  9120,  9121,  9125,\n",
       "        9126,  9127,  9129,  9130,  9132,  9137,  9141,  9144,  9146,\n",
       "        9148,  9157,  9160,  9292,  9293,  9305,  9308,  9333,  9335,\n",
       "        9336,  9341,  9343,  9345,  9346,  9351, 10011, 10047, 10110,\n",
       "       10163, 10194, 10245, 10444, 10495, 10602, 10639, 10644, 10711,\n",
       "       10861, 10998, 11082, 11167, 11205, 11277, 11359, 11460, 11621,\n",
       "       11922, 12257, 12534, 12725, 12768, 12814, 13231, 13298, 13381,\n",
       "       13473, 13652, 14160, 14370, 14573, 15232, 15723, 15751, 15819,\n",
       "       15855, 16097, 16185, 16192, 16193, 16555, 16660, 16690, 16738,\n",
       "       16759, 16809, 16843, 16913, 16919, 17078, 17160, 17227, 17251,\n",
       "       17259, 17307, 17500, 18150, 18250, 18451, 18727, 18949, 19357])"
      ]
     },
     "execution_count": 23,
     "metadata": {},
     "output_type": "execute_result"
    }
   ],
   "source": [
    "new_values = values[filter_values]\n",
    "new_values"
   ]
  },
  {
   "cell_type": "code",
   "execution_count": 17,
   "metadata": {},
   "outputs": [
    {
     "name": "stdout",
     "output_type": "stream",
     "text": [
      "CPU times: user 2.31 ms, sys: 173 µs, total: 2.48 ms\n",
      "Wall time: 2.39 ms\n"
     ]
    },
    {
     "data": {
      "text/plain": [
       "array([    0,  8180,  8186,  8188,  8201,  8203,  8205,  8207,  8210,\n",
       "        8212,  8215,  8219,  8220,  8223,  8232,  8233,  8237,  8242,\n",
       "        8248,  8255,  8256,  8257,  8261,  8271,  8273,  8275,  8278,\n",
       "        8279,  8284,  8286,  8287,  8296,  8593,  8595,  8597,  8598,\n",
       "        8601,  8603,  8605,  8608,  8609,  8610,  8611,  8613,  8615,\n",
       "        8616,  8618,  8622,  8633,  8634,  8636,  8639,  8640,  8643,\n",
       "        8644,  8646,  8647,  8650,  8652,  8656,  8660,  8662,  8664,\n",
       "        8665,  8667,  8669,  8671,  8673,  8675,  8677,  8679,  8683,\n",
       "        8684,  8685,  8694,  8695,  8699,  8701,  8706,  8709,  8715,\n",
       "        8716,  8717,  8719,  8726,  8728,  8989,  8996,  8997,  8998,\n",
       "        8999,  9001,  9003,  9005,  9010,  9015,  9017,  9019,  9020,\n",
       "        9025,  9028,  9030,  9032,  9035,  9037,  9039,  9043,  9045,\n",
       "        9046,  9049,  9051,  9052,  9054,  9056,  9060,  9063,  9066,\n",
       "        9071,  9072,  9075,  9076,  9080,  9081,  9082,  9087,  9095,\n",
       "        9097,  9099,  9111,  9113,  9115,  9118,  9119,  9120,  9121,\n",
       "        9125,  9126,  9127,  9129,  9130,  9132,  9137,  9141,  9144,\n",
       "        9146,  9148,  9157,  9160,  9292,  9293,  9305,  9308,  9333,\n",
       "        9335,  9336,  9341,  9343,  9345,  9346,  9351, 10011, 10047,\n",
       "       10110, 10163, 10194, 10245, 10444, 10495, 10602, 10639, 10644,\n",
       "       10711, 10861, 10998, 11082, 11167, 11205, 11277, 11359, 11460,\n",
       "       11621, 11922, 12257, 12534, 12725, 12768, 12814, 13231, 13298,\n",
       "       13381, 13473, 13652, 14160, 14370, 14573, 15232, 15723, 15751,\n",
       "       15819, 15855, 16097, 16185, 16192, 16193, 16555, 16660, 16690,\n",
       "       16738, 16759, 16809, 16843, 16913, 16919, 17078, 17160, 17227,\n",
       "       17251, 17259, 17307, 17500, 18150, 18250, 18451, 18727, 18949,\n",
       "       19357])"
      ]
     },
     "execution_count": 17,
     "metadata": {},
     "output_type": "execute_result"
    }
   ],
   "source": [
    "%%time\n",
    "df[\"Grupo\"].sort_values().unique()"
   ]
  }
 ],
 "metadata": {
  "kernelspec": {
   "display_name": "Python 3",
   "language": "python",
   "name": "python3"
  },
  "language_info": {
   "codemirror_mode": {
    "name": "ipython",
    "version": 3
   },
   "file_extension": ".py",
   "mimetype": "text/x-python",
   "name": "python",
   "nbconvert_exporter": "python",
   "pygments_lexer": "ipython3",
   "version": "3.10.4"
  },
  "orig_nbformat": 4,
  "vscode": {
   "interpreter": {
    "hash": "3ad933181bd8a04b432d3370b9dc3b0662ad032c4dfaa4e4f1596c548f763858"
   }
  }
 },
 "nbformat": 4,
 "nbformat_minor": 2
}
